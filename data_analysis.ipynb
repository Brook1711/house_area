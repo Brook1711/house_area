{
 "cells": [
  {
   "cell_type": "markdown",
   "id": "5e036255",
   "metadata": {},
   "source": [
    "# Notebook for house aera, by Guo Xufeng\n",
    "# Import data from xlsx\n",
    "using pandas.read_excel()\n",
    ", and using openpyxl"
   ]
  },
  {
   "cell_type": "code",
   "execution_count": 56,
   "id": "b5e4eb71",
   "metadata": {},
   "outputs": [],
   "source": [
    "import pandas as pd\n",
    "import json \n",
    "import matplotlib\n",
    "import matplotlib.pyplot as plt\n",
    "\n",
    "import numpy as np\n",
    "\n",
    "df = pd.read_excel('./data/data.xlsx')"
   ]
  },
  {
   "cell_type": "markdown",
   "id": "3da1e616",
   "metadata": {},
   "source": [
    "# Print basic information"
   ]
  },
  {
   "cell_type": "code",
   "execution_count": 13,
   "id": "c8b83aeb",
   "metadata": {},
   "outputs": [
    {
     "name": "stdout",
     "output_type": "stream",
     "text": [
      "row number:  636\n",
      "col number:  7\n",
      "************colunm vules***************\n",
      "['时间戳' '测试名称' '准考证号' '任务ID' '任务名称' '该时间戳下记录的作答结果' '测试来源']\n",
      "************colunm vules***************\n"
     ]
    }
   ],
   "source": [
    "print('row number:  '+str(len(df.index.values)))\n",
    "print('col number:  '+str(len(df.columns.values)))\n",
    "print('************colunm vules***************')\n",
    "print(df.columns.values)\n",
    "print('************colunm vules***************')"
   ]
  },
  {
   "cell_type": "markdown",
   "id": "c11c5117",
   "metadata": {},
   "source": [
    "# divide frame into different students\n",
    "using groupby()"
   ]
  },
  {
   "cell_type": "code",
   "execution_count": 19,
   "id": "d1a81c47",
   "metadata": {},
   "outputs": [],
   "source": [
    "group = df.groupby( '准考证号')\n",
    "group_list = list(group)"
   ]
  },
  {
   "cell_type": "markdown",
   "id": "3ab751cf",
   "metadata": {},
   "source": [
    "the student number is 59"
   ]
  },
  {
   "cell_type": "code",
   "execution_count": 28,
   "id": "e07aae32",
   "metadata": {},
   "outputs": [
    {
     "name": "stdout",
     "output_type": "stream",
     "text": [
      "the student number is:   59\n"
     ]
    }
   ],
   "source": [
    "print('the student number is:  ',len(group_list))"
   ]
  },
  {
   "cell_type": "markdown",
   "id": "f8c77825",
   "metadata": {},
   "source": [
    "**An exmaple frome the group_list**"
   ]
  },
  {
   "cell_type": "code",
   "execution_count": 33,
   "id": "80b6d093",
   "metadata": {},
   "outputs": [
    {
     "data": {
      "text/html": [
       "<div>\n",
       "<style scoped>\n",
       "    .dataframe tbody tr th:only-of-type {\n",
       "        vertical-align: middle;\n",
       "    }\n",
       "\n",
       "    .dataframe tbody tr th {\n",
       "        vertical-align: top;\n",
       "    }\n",
       "\n",
       "    .dataframe thead th {\n",
       "        text-align: right;\n",
       "    }\n",
       "</style>\n",
       "<table border=\"1\" class=\"dataframe\">\n",
       "  <thead>\n",
       "    <tr style=\"text-align: right;\">\n",
       "      <th></th>\n",
       "      <th>时间戳</th>\n",
       "      <th>测试名称</th>\n",
       "      <th>准考证号</th>\n",
       "      <th>任务ID</th>\n",
       "      <th>任务名称</th>\n",
       "      <th>该时间戳下记录的作答结果</th>\n",
       "      <th>测试来源</th>\n",
       "    </tr>\n",
       "  </thead>\n",
       "  <tbody>\n",
       "    <tr>\n",
       "      <th>347</th>\n",
       "      <td>2020-09-21T14:23:59+08:00</td>\n",
       "      <td>bnuadmin/小学试卷二</td>\n",
       "      <td>1031</td>\n",
       "      <td>1</td>\n",
       "      <td>房屋面积</td>\n",
       "      <td>{\"canvas\":{\"swap\":[0,0,0,0,0,0]}}</td>\n",
       "      <td>bnuadmin</td>\n",
       "    </tr>\n",
       "    <tr>\n",
       "      <th>358</th>\n",
       "      <td>2020-09-21T14:24:13+08:00</td>\n",
       "      <td>bnuadmin/小学试卷二</td>\n",
       "      <td>1031</td>\n",
       "      <td>1</td>\n",
       "      <td>房屋面积</td>\n",
       "      <td>{\"canvas\":{\"swap\":[1,0,0,0,0,0]}}</td>\n",
       "      <td>bnuadmin</td>\n",
       "    </tr>\n",
       "    <tr>\n",
       "      <th>359</th>\n",
       "      <td>2020-09-21T14:24:15+08:00</td>\n",
       "      <td>bnuadmin/小学试卷二</td>\n",
       "      <td>1031</td>\n",
       "      <td>1</td>\n",
       "      <td>房屋面积</td>\n",
       "      <td>{\"canvas\":{\"swap\":[1,1,0,0,0,0]}}</td>\n",
       "      <td>bnuadmin</td>\n",
       "    </tr>\n",
       "    <tr>\n",
       "      <th>363</th>\n",
       "      <td>2020-09-21T14:24:17+08:00</td>\n",
       "      <td>bnuadmin/小学试卷二</td>\n",
       "      <td>1031</td>\n",
       "      <td>1</td>\n",
       "      <td>房屋面积</td>\n",
       "      <td>{\"canvas\":{\"swap\":[1,1,1,0,0,0]}}</td>\n",
       "      <td>bnuadmin</td>\n",
       "    </tr>\n",
       "    <tr>\n",
       "      <th>365</th>\n",
       "      <td>2020-09-21T14:24:19+08:00</td>\n",
       "      <td>bnuadmin/小学试卷二</td>\n",
       "      <td>1031</td>\n",
       "      <td>1</td>\n",
       "      <td>房屋面积</td>\n",
       "      <td>{\"canvas\":{\"swap\":[1,1,1,0,1,0]}}</td>\n",
       "      <td>bnuadmin</td>\n",
       "    </tr>\n",
       "    <tr>\n",
       "      <th>367</th>\n",
       "      <td>2020-09-21T14:24:20+08:00</td>\n",
       "      <td>bnuadmin/小学试卷二</td>\n",
       "      <td>1031</td>\n",
       "      <td>1</td>\n",
       "      <td>房屋面积</td>\n",
       "      <td>{\"canvas\":{\"swap\":[1,1,1,1,1,0]}}</td>\n",
       "      <td>bnuadmin</td>\n",
       "    </tr>\n",
       "    <tr>\n",
       "      <th>368</th>\n",
       "      <td>2020-09-21T14:24:22+08:00</td>\n",
       "      <td>bnuadmin/小学试卷二</td>\n",
       "      <td>1031</td>\n",
       "      <td>1</td>\n",
       "      <td>房屋面积</td>\n",
       "      <td>{\"canvas\":{\"swap\":[1,1,1,1,1,1]}}</td>\n",
       "      <td>bnuadmin</td>\n",
       "    </tr>\n",
       "  </tbody>\n",
       "</table>\n",
       "</div>"
      ],
      "text/plain": [
       "                           时间戳            测试名称  准考证号  任务ID  任务名称  \\\n",
       "347  2020-09-21T14:23:59+08:00  bnuadmin/小学试卷二  1031     1  房屋面积   \n",
       "358  2020-09-21T14:24:13+08:00  bnuadmin/小学试卷二  1031     1  房屋面积   \n",
       "359  2020-09-21T14:24:15+08:00  bnuadmin/小学试卷二  1031     1  房屋面积   \n",
       "363  2020-09-21T14:24:17+08:00  bnuadmin/小学试卷二  1031     1  房屋面积   \n",
       "365  2020-09-21T14:24:19+08:00  bnuadmin/小学试卷二  1031     1  房屋面积   \n",
       "367  2020-09-21T14:24:20+08:00  bnuadmin/小学试卷二  1031     1  房屋面积   \n",
       "368  2020-09-21T14:24:22+08:00  bnuadmin/小学试卷二  1031     1  房屋面积   \n",
       "\n",
       "                          该时间戳下记录的作答结果      测试来源  \n",
       "347  {\"canvas\":{\"swap\":[0,0,0,0,0,0]}}  bnuadmin  \n",
       "358  {\"canvas\":{\"swap\":[1,0,0,0,0,0]}}  bnuadmin  \n",
       "359  {\"canvas\":{\"swap\":[1,1,0,0,0,0]}}  bnuadmin  \n",
       "363  {\"canvas\":{\"swap\":[1,1,1,0,0,0]}}  bnuadmin  \n",
       "365  {\"canvas\":{\"swap\":[1,1,1,0,1,0]}}  bnuadmin  \n",
       "367  {\"canvas\":{\"swap\":[1,1,1,1,1,0]}}  bnuadmin  \n",
       "368  {\"canvas\":{\"swap\":[1,1,1,1,1,1]}}  bnuadmin  "
      ]
     },
     "execution_count": 33,
     "metadata": {},
     "output_type": "execute_result"
    }
   ],
   "source": [
    "df_ex = group_list[0][1]\n",
    "df_ex"
   ]
  },
  {
   "cell_type": "markdown",
   "id": "bb769da1",
   "metadata": {},
   "source": [
    "# Reshape data into a list"
   ]
  },
  {
   "cell_type": "code",
   "execution_count": 38,
   "id": "d0c2623c",
   "metadata": {},
   "outputs": [
    {
     "data": {
      "text/plain": [
       "'{\"canvas\":{\"swap\":[0,0,0,0,0,0]}}'"
      ]
     },
     "execution_count": 38,
     "metadata": {},
     "output_type": "execute_result"
    }
   ],
   "source": [
    "list_seq = []\n",
    "df_ex.iloc[:, 5].values[0]"
   ]
  },
  {
   "cell_type": "code",
   "execution_count": 57,
   "id": "298ccd50",
   "metadata": {},
   "outputs": [],
   "source": [
    "def df_to_list(df_ex):\n",
    "    list_ex = []\n",
    "    for i in range(len(df_ex)):\n",
    "        df_ex_dic = json.loads(df_ex.iloc[:, 5].values[i])\n",
    "        list_ex.append(df_ex_dic['canvas']['swap'])\n",
    "    return list_ex\n",
    "# df_ex_dic = json.loads(df_ex.iloc[:, 5].values[0])\n",
    "# df_ex_dic\n",
    "# list_p = df_to_list(df_ex)\n",
    "def reshape_group(group_list):\n",
    "    dic_res = {}\n",
    "    for i in range(len(group_list)):\n",
    "        dic_res[i] = df_to_list(group_list[i][1])\n",
    "    return dic_res"
   ]
  },
  {
   "cell_type": "code",
   "execution_count": 45,
   "id": "b5242475",
   "metadata": {},
   "outputs": [],
   "source": [
    "dic_res = reshape_group(group_list)"
   ]
  },
  {
   "cell_type": "code",
   "execution_count": 48,
   "id": "adaf9c8f",
   "metadata": {},
   "outputs": [
    {
     "data": {
      "text/plain": [
       "59"
      ]
     },
     "execution_count": 48,
     "metadata": {},
     "output_type": "execute_result"
    }
   ],
   "source": [
    "len(dic_res)"
   ]
  },
  {
   "cell_type": "markdown",
   "id": "5ae36518",
   "metadata": {},
   "source": [
    "# Plot"
   ]
  },
  {
   "cell_type": "code",
   "execution_count": 77,
   "id": "27900387",
   "metadata": {},
   "outputs": [
    {
     "data": {
      "image/png": "[encoded data removed]",
      "text/plain": [
       "<Figure size 720x720 with 1 Axes>"
      ]
     },
     "metadata": {
      "needs_background": "light"
     },
     "output_type": "display_data"
    }
   ],
   "source": [
    "\n",
    "color1=(1,1,1)\n",
    "color3=(247/255,220/255,111/255)\n",
    "color2=(0.5,0.5,0.5)\n",
    "\n",
    "mat=np.zeros((16,16))\n",
    "# for i in range(16):\n",
    "#     for j in range(16):\n",
    "#         if (i+j)%2==0:\n",
    "#             mat[i,j]=1\n",
    "#         else:\n",
    "#             mat[i,j]=-1\n",
    " \n",
    "my_cmap=matplotlib.colors.LinearSegmentedColormap.from_list('my_camp',[color1,color2,color3],3)\n",
    "\n",
    "plt.figure(figsize=(10,10))\n",
    "cs=plt.imshow(mat,cmap=my_cmap)\n",
    "\n",
    "plt.xticks(np.linspace(0,16,16,endpoint=False),('7','6','5','4','3','2','1','0','0','1','2','3','4','5','6','7'),fontsize=20)\n",
    "plt.yticks(np.linspace(0,16,16,endpoint=False),('7','6','5','4','3','2','1','0','0','1','2','3','4','5','6','7'),fontsize=20)\n",
    "plt.tick_params(bottom=False,left=False,labeltop=True,labelright=True)\n",
    "plt.grid(True, lw = 2, ls = '--', c = '.65')\n",
    "plt.show()\n"
   ]
  },
  {
   "cell_type": "code",
   "execution_count": null,
   "id": "759e431f",
   "metadata": {},
   "outputs": [],
   "source": []
  }
 ],
 "metadata": {
  "kernelspec": {
   "display_name": "data_analysis",
   "language": "python",
   "name": "data_analysis"
  },
  "language_info": {
   "codemirror_mode": {
    "name": "ipython",
    "version": 3
   },
   "file_extension": ".py",
   "mimetype": "text/x-python",
   "name": "python",
   "nbconvert_exporter": "python",
   "pygments_lexer": "ipython3",
   "version": "3.8.10"
  }
 },
 "nbformat": 4,
 "nbformat_minor": 5
}
