{
 "cells": [
  {
   "cell_type": "markdown",
   "id": "5e036255",
   "metadata": {},
   "source": [
    "# Notebook for house aera, by Guo Xufeng\n",
    "# Import data from xlsx\n",
    "using pandas.read_excel()\n",
    ", and using openpyxl"
   ]
  },
  {
   "cell_type": "markdown",
   "id": "e1e7e642",
   "metadata": {},
   "source": [
    "# 最终结果预览：\n",
    "![](https://cdn.jsdelivr.net/gh/Brook1711/fig_for_blog/img/20210610163914.png)"
   ]
  },
  {
   "cell_type": "code",
   "execution_count": 118,
   "id": "b5e4eb71",
   "metadata": {},
   "outputs": [
    {
     "data": {
      "text/html": [
       "        <script type=\"text/javascript\">\n",
       "        window.PlotlyConfig = {MathJaxConfig: 'local'};\n",
       "        if (window.MathJax) {MathJax.Hub.Config({SVG: {font: \"STIX-Web\"}});}\n",
       "        if (typeof require !== 'undefined') {\n",
       "        require.undef(\"plotly\");\n",
       "        requirejs.config({\n",
       "            paths: {\n",
       "                'plotly': ['https://cdn.plot.ly/plotly-latest.min']\n",
       "            }\n",
       "        });\n",
       "        require(['plotly'], function(Plotly) {\n",
       "            window._Plotly = Plotly;\n",
       "        });\n",
       "        }\n",
       "        </script>\n",
       "        "
      ]
     },
     "metadata": {},
     "output_type": "display_data"
    }
   ],
   "source": [
    "import pandas as pd\n",
    "import json \n",
    "import matplotlib\n",
    "import matplotlib.pyplot as plt\n",
    "import plotly.graph_objs as go\n",
    "from plotly.offline import plot\n",
    "from IPython.core.display import HTML\n",
    "import plotly.offline as offline\n",
    "offline.init_notebook_mode(connected=True)\n",
    "import numpy as np\n",
    "\n",
    "df = pd.read_excel('./data/data.xlsx')"
   ]
  },
  {
   "cell_type": "markdown",
   "id": "a2e41e19",
   "metadata": {},
   "source": [
    "# Print basic information"
   ]
  },
  {
   "cell_type": "code",
   "execution_count": 13,
   "id": "c8b83aeb",
   "metadata": {},
   "outputs": [
    {
     "name": "stdout",
     "output_type": "stream",
     "text": [
      "row number:  636\n",
      "col number:  7\n",
      "************colunm vules***************\n",
      "['时间戳' '测试名称' '准考证号' '任务ID' '任务名称' '该时间戳下记录的作答结果' '测试来源']\n",
      "************colunm vules***************\n"
     ]
    }
   ],
   "source": [
    "print('row number:  '+str(len(df.index.values)))\n",
    "print('col number:  '+str(len(df.columns.values)))\n",
    "print('************colunm vules***************')\n",
    "print(df.columns.values)\n",
    "print('************colunm vules***************')"
   ]
  },
  {
   "cell_type": "markdown",
   "id": "10d2aefc",
   "metadata": {},
   "source": [
    "# divide frame into different students\n",
    "using groupby()"
   ]
  },
  {
   "cell_type": "code",
   "execution_count": 19,
   "id": "d54e1ccf",
   "metadata": {},
   "outputs": [],
   "source": [
    "group = df.groupby( '准考证号')\n",
    "group_list = list(group)"
   ]
  },
  {
   "cell_type": "markdown",
   "id": "f0c53435",
   "metadata": {},
   "source": [
    "the student number is 59"
   ]
  },
  {
   "cell_type": "code",
   "execution_count": 28,
   "id": "6f2ac1ab",
   "metadata": {},
   "outputs": [
    {
     "name": "stdout",
     "output_type": "stream",
     "text": [
      "the student number is:   59\n"
     ]
    }
   ],
   "source": [
    "print('the student number is:  ',len(group_list))"
   ]
  },
  {
   "cell_type": "markdown",
   "id": "5e74eee3",
   "metadata": {},
   "source": [
    "**An exmaple frome the group_list**"
   ]
  },
  {
   "cell_type": "code",
   "execution_count": 33,
   "id": "2c72800a",
   "metadata": {},
   "outputs": [
    {
     "data": {
      "text/html": [
       "<div>\n",
       "<style scoped>\n",
       "    .dataframe tbody tr th:only-of-type {\n",
       "        vertical-align: middle;\n",
       "    }\n",
       "\n",
       "    .dataframe tbody tr th {\n",
       "        vertical-align: top;\n",
       "    }\n",
       "\n",
       "    .dataframe thead th {\n",
       "        text-align: right;\n",
       "    }\n",
       "</style>\n",
       "<table border=\"1\" class=\"dataframe\">\n",
       "  <thead>\n",
       "    <tr style=\"text-align: right;\">\n",
       "      <th></th>\n",
       "      <th>时间戳</th>\n",
       "      <th>测试名称</th>\n",
       "      <th>准考证号</th>\n",
       "      <th>任务ID</th>\n",
       "      <th>任务名称</th>\n",
       "      <th>该时间戳下记录的作答结果</th>\n",
       "      <th>测试来源</th>\n",
       "    </tr>\n",
       "  </thead>\n",
       "  <tbody>\n",
       "    <tr>\n",
       "      <th>347</th>\n",
       "      <td>2020-09-21T14:23:59+08:00</td>\n",
       "      <td>bnuadmin/小学试卷二</td>\n",
       "      <td>1031</td>\n",
       "      <td>1</td>\n",
       "      <td>房屋面积</td>\n",
       "      <td>{\"canvas\":{\"swap\":[0,0,0,0,0,0]}}</td>\n",
       "      <td>bnuadmin</td>\n",
       "    </tr>\n",
       "    <tr>\n",
       "      <th>358</th>\n",
       "      <td>2020-09-21T14:24:13+08:00</td>\n",
       "      <td>bnuadmin/小学试卷二</td>\n",
       "      <td>1031</td>\n",
       "      <td>1</td>\n",
       "      <td>房屋面积</td>\n",
       "      <td>{\"canvas\":{\"swap\":[1,0,0,0,0,0]}}</td>\n",
       "      <td>bnuadmin</td>\n",
       "    </tr>\n",
       "    <tr>\n",
       "      <th>359</th>\n",
       "      <td>2020-09-21T14:24:15+08:00</td>\n",
       "      <td>bnuadmin/小学试卷二</td>\n",
       "      <td>1031</td>\n",
       "      <td>1</td>\n",
       "      <td>房屋面积</td>\n",
       "      <td>{\"canvas\":{\"swap\":[1,1,0,0,0,0]}}</td>\n",
       "      <td>bnuadmin</td>\n",
       "    </tr>\n",
       "    <tr>\n",
       "      <th>363</th>\n",
       "      <td>2020-09-21T14:24:17+08:00</td>\n",
       "      <td>bnuadmin/小学试卷二</td>\n",
       "      <td>1031</td>\n",
       "      <td>1</td>\n",
       "      <td>房屋面积</td>\n",
       "      <td>{\"canvas\":{\"swap\":[1,1,1,0,0,0]}}</td>\n",
       "      <td>bnuadmin</td>\n",
       "    </tr>\n",
       "    <tr>\n",
       "      <th>365</th>\n",
       "      <td>2020-09-21T14:24:19+08:00</td>\n",
       "      <td>bnuadmin/小学试卷二</td>\n",
       "      <td>1031</td>\n",
       "      <td>1</td>\n",
       "      <td>房屋面积</td>\n",
       "      <td>{\"canvas\":{\"swap\":[1,1,1,0,1,0]}}</td>\n",
       "      <td>bnuadmin</td>\n",
       "    </tr>\n",
       "    <tr>\n",
       "      <th>367</th>\n",
       "      <td>2020-09-21T14:24:20+08:00</td>\n",
       "      <td>bnuadmin/小学试卷二</td>\n",
       "      <td>1031</td>\n",
       "      <td>1</td>\n",
       "      <td>房屋面积</td>\n",
       "      <td>{\"canvas\":{\"swap\":[1,1,1,1,1,0]}}</td>\n",
       "      <td>bnuadmin</td>\n",
       "    </tr>\n",
       "    <tr>\n",
       "      <th>368</th>\n",
       "      <td>2020-09-21T14:24:22+08:00</td>\n",
       "      <td>bnuadmin/小学试卷二</td>\n",
       "      <td>1031</td>\n",
       "      <td>1</td>\n",
       "      <td>房屋面积</td>\n",
       "      <td>{\"canvas\":{\"swap\":[1,1,1,1,1,1]}}</td>\n",
       "      <td>bnuadmin</td>\n",
       "    </tr>\n",
       "  </tbody>\n",
       "</table>\n",
       "</div>"
      ],
      "text/plain": [
       "                           时间戳            测试名称  准考证号  任务ID  任务名称  \\\n",
       "347  2020-09-21T14:23:59+08:00  bnuadmin/小学试卷二  1031     1  房屋面积   \n",
       "358  2020-09-21T14:24:13+08:00  bnuadmin/小学试卷二  1031     1  房屋面积   \n",
       "359  2020-09-21T14:24:15+08:00  bnuadmin/小学试卷二  1031     1  房屋面积   \n",
       "363  2020-09-21T14:24:17+08:00  bnuadmin/小学试卷二  1031     1  房屋面积   \n",
       "365  2020-09-21T14:24:19+08:00  bnuadmin/小学试卷二  1031     1  房屋面积   \n",
       "367  2020-09-21T14:24:20+08:00  bnuadmin/小学试卷二  1031     1  房屋面积   \n",
       "368  2020-09-21T14:24:22+08:00  bnuadmin/小学试卷二  1031     1  房屋面积   \n",
       "\n",
       "                          该时间戳下记录的作答结果      测试来源  \n",
       "347  {\"canvas\":{\"swap\":[0,0,0,0,0,0]}}  bnuadmin  \n",
       "358  {\"canvas\":{\"swap\":[1,0,0,0,0,0]}}  bnuadmin  \n",
       "359  {\"canvas\":{\"swap\":[1,1,0,0,0,0]}}  bnuadmin  \n",
       "363  {\"canvas\":{\"swap\":[1,1,1,0,0,0]}}  bnuadmin  \n",
       "365  {\"canvas\":{\"swap\":[1,1,1,0,1,0]}}  bnuadmin  \n",
       "367  {\"canvas\":{\"swap\":[1,1,1,1,1,0]}}  bnuadmin  \n",
       "368  {\"canvas\":{\"swap\":[1,1,1,1,1,1]}}  bnuadmin  "
      ]
     },
     "execution_count": 33,
     "metadata": {},
     "output_type": "execute_result"
    }
   ],
   "source": [
    "df_ex = group_list[0][1]\n",
    "df_ex"
   ]
  },
  {
   "cell_type": "markdown",
   "id": "a79b1610",
   "metadata": {},
   "source": [
    "# Reshape data into a list"
   ]
  },
  {
   "cell_type": "code",
   "execution_count": 38,
   "id": "72c773a4",
   "metadata": {},
   "outputs": [
    {
     "data": {
      "text/plain": [
       "'{\"canvas\":{\"swap\":[0,0,0,0,0,0]}}'"
      ]
     },
     "execution_count": 38,
     "metadata": {},
     "output_type": "execute_result"
    }
   ],
   "source": [
    "list_seq = []\n",
    "df_ex.iloc[:, 5].values[0]"
   ]
  },
  {
   "cell_type": "code",
   "execution_count": 57,
   "id": "d57d2f1c",
   "metadata": {},
   "outputs": [],
   "source": [
    "def df_to_list(df_ex):\n",
    "    list_ex = []\n",
    "    for i in range(len(df_ex)):\n",
    "        df_ex_dic = json.loads(df_ex.iloc[:, 5].values[i])\n",
    "        list_ex.append(df_ex_dic['canvas']['swap'])\n",
    "    return list_ex\n",
    "\n",
    "def reshape_group(group_list):\n",
    "    dic_res = {}\n",
    "    for i in range(len(group_list)):\n",
    "        dic_res[i] = df_to_list(group_list[i][1])\n",
    "    return dic_res"
   ]
  },
  {
   "cell_type": "code",
   "execution_count": 45,
   "id": "19d15829",
   "metadata": {},
   "outputs": [],
   "source": [
    "dic_res = reshape_group(group_list)"
   ]
  },
  {
   "cell_type": "code",
   "execution_count": 86,
   "id": "b3e8e73c",
   "metadata": {},
   "outputs": [
    {
     "data": {
      "text/plain": [
       "[[0, 0, 0, 0, 0, 0],\n",
       " [1, 0, 0, 0, 0, 0],\n",
       " [1, 1, 0, 0, 0, 0],\n",
       " [1, 1, 1, 0, 0, 0],\n",
       " [1, 1, 1, 0, 1, 0],\n",
       " [1, 1, 1, 1, 1, 0],\n",
       " [1, 1, 1, 1, 1, 1]]"
      ]
     },
     "execution_count": 86,
     "metadata": {},
     "output_type": "execute_result"
    }
   ],
   "source": [
    "len(dic_res)\n",
    "dic_res[0]"
   ]
  },
  {
   "cell_type": "markdown",
   "id": "4eee4537",
   "metadata": {},
   "source": [
    "# Plot"
   ]
  },
  {
   "cell_type": "code",
   "execution_count": 224,
   "id": "8733f664",
   "metadata": {},
   "outputs": [],
   "source": [
    "def plot_all(point_list = None, vector_list = None):\n",
    "\n",
    "    data = point_list+vector_list\n",
    "    layout = go.Layout(margin = dict( l = 0,\n",
    "                                      r = 0,\n",
    "                                      b = 0,\n",
    "                                      t = 0)\n",
    "                      )\n",
    "    fig = go.Figure(data=data,layout=layout)\n",
    "    plot(fig,filename=\"vector.html\",auto_open=False,image='png',image_height=800,image_width=1500)\n",
    "    offline.iplot(fig) "
   ]
  },
  {
   "attachments": {},
   "cell_type": "markdown",
   "id": "e69947d0",
   "metadata": {},
   "source": [
    "# Bit to coordinate\n",
    "首先采用格雷码对数据集的6位二进制数进行“2位+2位+2位”模式的编码\n",
    "![](https://cdn.jsdelivr.net/gh/Brook1711/fig_for_blog/img/20210610160848.png)"
   ]
  },
  {
   "cell_type": "code",
   "execution_count": 109,
   "id": "506aaaff",
   "metadata": {},
   "outputs": [],
   "source": [
    "# def bit_to_coordinate(list_of_bits):\n",
    "#     map_to_num = [0, 1, 3, 2, 7, 6, 4, 5]\n",
    "#     x = map_to_num[list_of_bits[0]*4 + list_of_bits[1]*2 +list_of_bits[2]*1]\n",
    "#     y = map_to_num[list_of_bits[3]*4 + list_of_bits[4]*2 +list_of_bits[5]*1]\n",
    "#     return tuple((x, y))\n",
    "def bit_to_coordinate(list_of_bits):\n",
    "    map_to_num = [0, 1, 3, 2]\n",
    "    x = map_to_num[list_of_bits[0]*2 + list_of_bits[1]*1]\n",
    "    y = map_to_num[list_of_bits[2]*2 + list_of_bits[3]*1]\n",
    "    z = map_to_num[list_of_bits[4]*2 + list_of_bits[5]*1]\n",
    "    return [x, y, z]"
   ]
  },
  {
   "cell_type": "code",
   "execution_count": 110,
   "id": "468a674c",
   "metadata": {},
   "outputs": [
    {
     "data": {
      "text/plain": [
       "[[0, 0, 0, 0, 0, 0],\n",
       " [1, 0, 0, 0, 0, 0],\n",
       " [1, 1, 0, 0, 0, 0],\n",
       " [1, 1, 1, 0, 0, 0],\n",
       " [1, 1, 1, 0, 1, 0],\n",
       " [1, 1, 1, 1, 1, 0],\n",
       " [1, 1, 1, 1, 1, 1]]"
      ]
     },
     "execution_count": 110,
     "metadata": {},
     "output_type": "execute_result"
    }
   ],
   "source": [
    "dic_res[0]"
   ]
  },
  {
   "cell_type": "code",
   "execution_count": 111,
   "id": "bd397cb4",
   "metadata": {},
   "outputs": [
    {
     "data": {
      "text/plain": [
       "[2, 0, 0]"
      ]
     },
     "execution_count": 111,
     "metadata": {},
     "output_type": "execute_result"
    }
   ],
   "source": [
    "bit_to_coordinate(dic_res[0][2])"
   ]
  },
  {
   "cell_type": "code",
   "execution_count": 123,
   "id": "cbad0b76",
   "metadata": {},
   "outputs": [],
   "source": [
    "def bits_to_coordinate(dic_res):\n",
    "    dic_coordinate = {}\n",
    "    for i in range(len(dic_res)):\n",
    "        tmp_list = []\n",
    "        for j in range(len(dic_res[i])):\n",
    "            coor = bit_to_coordinate(dic_res[i][j])\n",
    "            tmp_list.append(str(coor[0])+str(coor[1])+str(coor[2]))\n",
    "        dic_coordinate[i] = tmp_list\n",
    "    return dic_coordinate\n",
    "\n",
    "dic_coordinate = bits_to_coordinate(dic_res)"
   ]
  },
  {
   "cell_type": "markdown",
   "id": "cd03ba0e",
   "metadata": {},
   "source": [
    "# Lines between nodes\n"
   ]
  },
  {
   "cell_type": "code",
   "execution_count": 127,
   "id": "7f56bb9c",
   "metadata": {},
   "outputs": [],
   "source": [
    "def coordinate_to_node(dic_coordinate):\n",
    "    dic_line = {}\n",
    "    for i in range(len(dic_coordinate)):\n",
    "        tmp_list = []\n",
    "        for j in range(len(dic_coordinate[i])-1):\n",
    "            tmp_list.append(dic_coordinate[i][j] + dic_coordinate[i][j+1])\n",
    "        dic_line[i] = tmp_list\n",
    "    return dic_line\n",
    "\n",
    "dic_line = coordinate_to_node(dic_coordinate)"
   ]
  },
  {
   "cell_type": "code",
   "execution_count": 144,
   "id": "246149df",
   "metadata": {},
   "outputs": [
    {
     "data": {
      "text/plain": [
       "577"
      ]
     },
     "execution_count": 144,
     "metadata": {},
     "output_type": "execute_result"
    }
   ],
   "source": [
    "\n",
    "lines_list = []\n",
    "for i in range(len(dic_line)):\n",
    "    lines_list+=dic_line[i]\n",
    "len(lines_list)"
   ]
  },
  {
   "cell_type": "code",
   "execution_count": 136,
   "id": "927a31bb",
   "metadata": {},
   "outputs": [
    {
     "data": {
      "text/plain": [
       "636"
      ]
     },
     "execution_count": 136,
     "metadata": {},
     "output_type": "execute_result"
    }
   ],
   "source": [
    "nodes_list = []\n",
    "for i in range(len(dic_coordinate)):\n",
    "    nodes_list+=dic_coordinate[i]\n",
    "nodes_list\n",
    "len(nodes_list)"
   ]
  },
  {
   "cell_type": "code",
   "execution_count": 207,
   "id": "b5e510d2",
   "metadata": {},
   "outputs": [
    {
     "name": "stdout",
     "output_type": "stream",
     "text": [
      "{'000': 91, '300': 34, '200': 11, '230': 28, '233': 20, '223': 20, '222': 45, '100': 9, '001': 9, '030': 33, '033': 10, '133': 8, '132': 3, '122': 3, '330': 38, '320': 8, '323': 9, '220': 21, '221': 7, '301': 4, '331': 20, '332': 14, '231': 11, '232': 14, '123': 3, '113': 2, '112': 3, '111': 6, '101': 1, '020': 5, '321': 2, '031': 4, '333': 6, '003': 20, '002': 7, '303': 4, '103': 1, '013': 8, '032': 4, '023': 3, '022': 2, '322': 25, '010': 8, '011': 3, '311': 1, '310': 3, '210': 4, '213': 4, '212': 5, '201': 2, '313': 7, '203': 4, '211': 4, '130': 4, '131': 1, '202': 5, '110': 3, '012': 1, '302': 1}\n"
     ]
    }
   ],
   "source": [
    "nodes_res = {}\n",
    "for key in nodes_list:\n",
    "    nodes_res[key] = nodes_res.get(key, 0) + 1\n",
    "print(nodes_res)\n"
   ]
  },
  {
   "cell_type": "code",
   "execution_count": 146,
   "id": "840d5823",
   "metadata": {},
   "outputs": [
    {
     "data": {
      "text/plain": [
       "132"
      ]
     },
     "execution_count": 146,
     "metadata": {},
     "output_type": "execute_result"
    }
   ],
   "source": [
    "lines_list_no_dir = []\n",
    "for line in lines_list:\n",
    "    tmp =''\n",
    "    if line[0:3] > line[3:6]:\n",
    "        tmp = line[3:6] + line[0:3]\n",
    "    else:\n",
    "        tmp = line[0:3] + line[3:6]\n",
    "    lines_list_no_dir.append(tmp)\n",
    "# print(len(lines_list_no_dir))\n",
    "# print(lines_list_no_dir)\n",
    "lines_res = {}\n",
    "for key in lines_list_no_dir:\n",
    "    lines_res[key] = lines_res.get(key, 0) + 1\n",
    "lines_res\n",
    "len(lines_res)"
   ]
  },
  {
   "cell_type": "code",
   "execution_count": 222,
   "id": "27d0102d",
   "metadata": {},
   "outputs": [],
   "source": [
    "def create_vectors(lines_res):\n",
    "    vector_list = []\n",
    "    for line in lines_res:\n",
    "        x1 = line[0]\n",
    "        x2 = line[3]\n",
    "        y1 = line[1]\n",
    "        y2 = line[4]\n",
    "        z1 = line[2]\n",
    "        z2 = line[5]\n",
    "        num = lines_res[line]\n",
    "        if_plot = False\n",
    "        if num <5:\n",
    "            if_plot = False\n",
    "            size = 1\n",
    "            color = \"rgb(208, 162, 159)\"\n",
    "        elif num < 15:\n",
    "            if_plot = True\n",
    "            size = 5\n",
    "            color = \"rgb(127, 198, 127)\"\n",
    "        else:\n",
    "            if_plot = True\n",
    "            size = 10\n",
    "            color = \"rgb(84,48,5)\"\n",
    "        \n",
    "        if if_plot:\n",
    "            vector = go.Scatter3d( x = [x1,x2],\n",
    "                                   y = [y1,y2],\n",
    "                                   z = [z1,z2],\n",
    "                                   marker = dict( size = 1,\n",
    "                                                  color = color),\n",
    "                                   line = dict( color = color,\n",
    "                                                width = size)\n",
    "                                 )\n",
    "            vector_list.append(vector)\n",
    "    return vector_list\n",
    "vector_list = create_vectors(lines_res)\n",
    "def create_points(nodes_res):\n",
    "    node_list = []\n",
    "    x_red_list =[]\n",
    "    y_red_list =[]\n",
    "    z_red_list =[]\n",
    "    \n",
    "    x_green_list =[]\n",
    "    y_green_list =[]\n",
    "    z_green_list =[]\n",
    "    for node in nodes_res:\n",
    "        x = node[0]\n",
    "        y = node[1]\n",
    "        z = node[2]\n",
    "        num = nodes_res[node]\n",
    "        if node == '332' or node == '323' or node == '231' or node == '220' or node == '022' or node == '121' or node == '202' or node == '213' or node == '112':\n",
    "            x_red_list.append(int(x))\n",
    "            y_red_list.append(int(y))\n",
    "            z_red_list.append(int(z))\n",
    "        else:\n",
    "            if num >20:\n",
    "                x_green_list.append(int(x))\n",
    "                y_green_list.append(int(y))\n",
    "                z_green_list.append(int(z))\n",
    "                \n",
    "    red_points = go.Scatter3d( x = x_red_list,\n",
    "                           y = y_red_list,\n",
    "                           z = z_red_list,\n",
    "                           mode = 'markers',\n",
    "                           marker = dict( size = 10,\n",
    "                                          color = \"rgb(227,26,28)\")\n",
    "                         )\n",
    "    green_points = go.Scatter3d( x = x_green_list,\n",
    "                           y = y_green_list,\n",
    "                           z = z_green_list,\n",
    "                           mode = 'markers',\n",
    "                           marker = dict( size = 8,\n",
    "                                          color = \"rgb(111, 146, 148)\")\n",
    "                         )\n",
    "    return [red_points,green_points]\n",
    "\n",
    "node_list = create_points(nodes_res)\n",
    "    "
   ]
  },
  {
   "cell_type": "code",
   "execution_count": 225,
   "id": "8511bb5a",
   "metadata": {},
   "outputs": [
    {
     "data": {
      "application/vnd.plotly.v1+json": {
       "config": {
        "linkText": "Export to plot.ly",
        "plotlyServerURL": "https://plot.ly",
        "showLink": false
       },
       "data": [
        {
         "marker": {
          "color": "rgb(227,26,28)",
          "size": 10
         },
         "mode": "markers",
         "type": "scatter3d",
         "x": [
          3,
          2,
          3,
          2,
          1,
          0,
          2,
          2
         ],
         "y": [
          2,
          2,
          3,
          3,
          1,
          2,
          1,
          0
         ],
         "z": [
          3,
          0,
          2,
          1,
          2,
          2,
          3,
          2
         ]
        },
        {
         "marker": {
          "color": "rgb(111, 146, 148)",
          "size": 8
         },
         "mode": "markers",
         "type": "scatter3d",
         "x": [
          0,
          3,
          2,
          2,
          0,
          3,
          3
         ],
         "y": [
          0,
          0,
          3,
          2,
          3,
          3,
          2
         ],
         "z": [
          0,
          0,
          0,
          2,
          0,
          0,
          2
         ]
        },
        {
         "line": {
          "color": "rgb(84,48,5)",
          "width": 10
         },
         "marker": {
          "color": "rgb(84,48,5)",
          "size": 1
         },
         "type": "scatter3d",
         "x": [
          "0",
          "3"
         ],
         "y": [
          "0",
          "0"
         ],
         "z": [
          "0",
          "0"
         ]
        },
        {
         "line": {
          "color": "rgb(127, 198, 127)",
          "width": 5
         },
         "marker": {
          "color": "rgb(127, 198, 127)",
          "size": 1
         },
         "type": "scatter3d",
         "x": [
          "2",
          "3"
         ],
         "y": [
          "0",
          "0"
         ],
         "z": [
          "0",
          "0"
         ]
        },
        {
         "line": {
          "color": "rgb(127, 198, 127)",
          "width": 5
         },
         "marker": {
          "color": "rgb(127, 198, 127)",
          "size": 1
         },
         "type": "scatter3d",
         "x": [
          "2",
          "2"
         ],
         "y": [
          "0",
          "3"
         ],
         "z": [
          "0",
          "0"
         ]
        },
        {
         "line": {
          "color": "rgb(127, 198, 127)",
          "width": 5
         },
         "marker": {
          "color": "rgb(127, 198, 127)",
          "size": 1
         },
         "type": "scatter3d",
         "x": [
          "2",
          "2"
         ],
         "y": [
          "3",
          "3"
         ],
         "z": [
          "0",
          "3"
         ]
        },
        {
         "line": {
          "color": "rgb(84,48,5)",
          "width": 10
         },
         "marker": {
          "color": "rgb(84,48,5)",
          "size": 1
         },
         "type": "scatter3d",
         "x": [
          "2",
          "2"
         ],
         "y": [
          "2",
          "2"
         ],
         "z": [
          "2",
          "3"
         ]
        },
        {
         "line": {
          "color": "rgb(127, 198, 127)",
          "width": 5
         },
         "marker": {
          "color": "rgb(127, 198, 127)",
          "size": 1
         },
         "type": "scatter3d",
         "x": [
          "0",
          "1"
         ],
         "y": [
          "0",
          "0"
         ],
         "z": [
          "0",
          "0"
         ]
        },
        {
         "line": {
          "color": "rgb(127, 198, 127)",
          "width": 5
         },
         "marker": {
          "color": "rgb(127, 198, 127)",
          "size": 1
         },
         "type": "scatter3d",
         "x": [
          "0",
          "0"
         ],
         "y": [
          "0",
          "0"
         ],
         "z": [
          "0",
          "1"
         ]
        },
        {
         "line": {
          "color": "rgb(84,48,5)",
          "width": 10
         },
         "marker": {
          "color": "rgb(84,48,5)",
          "size": 1
         },
         "type": "scatter3d",
         "x": [
          "0",
          "0"
         ],
         "y": [
          "0",
          "3"
         ],
         "z": [
          "0",
          "0"
         ]
        },
        {
         "line": {
          "color": "rgb(127, 198, 127)",
          "width": 5
         },
         "marker": {
          "color": "rgb(127, 198, 127)",
          "size": 1
         },
         "type": "scatter3d",
         "x": [
          "0",
          "0"
         ],
         "y": [
          "3",
          "3"
         ],
         "z": [
          "0",
          "3"
         ]
        },
        {
         "line": {
          "color": "rgb(127, 198, 127)",
          "width": 5
         },
         "marker": {
          "color": "rgb(127, 198, 127)",
          "size": 1
         },
         "type": "scatter3d",
         "x": [
          "1",
          "2"
         ],
         "y": [
          "3",
          "3"
         ],
         "z": [
          "3",
          "3"
         ]
        },
        {
         "line": {
          "color": "rgb(84,48,5)",
          "width": 10
         },
         "marker": {
          "color": "rgb(84,48,5)",
          "size": 1
         },
         "type": "scatter3d",
         "x": [
          "3",
          "3"
         ],
         "y": [
          "0",
          "3"
         ],
         "z": [
          "0",
          "0"
         ]
        },
        {
         "line": {
          "color": "rgb(84,48,5)",
          "width": 10
         },
         "marker": {
          "color": "rgb(84,48,5)",
          "size": 1
         },
         "type": "scatter3d",
         "x": [
          "0",
          "3"
         ],
         "y": [
          "3",
          "3"
         ],
         "z": [
          "0",
          "0"
         ]
        },
        {
         "line": {
          "color": "rgb(127, 198, 127)",
          "width": 5
         },
         "marker": {
          "color": "rgb(127, 198, 127)",
          "size": 1
         },
         "type": "scatter3d",
         "x": [
          "2",
          "3"
         ],
         "y": [
          "3",
          "3"
         ],
         "z": [
          "0",
          "0"
         ]
        },
        {
         "line": {
          "color": "rgb(84,48,5)",
          "width": 10
         },
         "marker": {
          "color": "rgb(84,48,5)",
          "size": 1
         },
         "type": "scatter3d",
         "x": [
          "2",
          "2"
         ],
         "y": [
          "2",
          "3"
         ],
         "z": [
          "0",
          "0"
         ]
        },
        {
         "line": {
          "color": "rgb(127, 198, 127)",
          "width": 5
         },
         "marker": {
          "color": "rgb(127, 198, 127)",
          "size": 1
         },
         "type": "scatter3d",
         "x": [
          "3",
          "3"
         ],
         "y": [
          "3",
          "3"
         ],
         "z": [
          "1",
          "2"
         ]
        },
        {
         "line": {
          "color": "rgb(127, 198, 127)",
          "width": 5
         },
         "marker": {
          "color": "rgb(127, 198, 127)",
          "size": 1
         },
         "type": "scatter3d",
         "x": [
          "2",
          "2"
         ],
         "y": [
          "2",
          "3"
         ],
         "z": [
          "2",
          "2"
         ]
        },
        {
         "line": {
          "color": "rgb(127, 198, 127)",
          "width": 5
         },
         "marker": {
          "color": "rgb(127, 198, 127)",
          "size": 1
         },
         "type": "scatter3d",
         "x": [
          "2",
          "3"
         ],
         "y": [
          "3",
          "3"
         ],
         "z": [
          "2",
          "2"
         ]
        },
        {
         "line": {
          "color": "rgb(127, 198, 127)",
          "width": 5
         },
         "marker": {
          "color": "rgb(127, 198, 127)",
          "size": 1
         },
         "type": "scatter3d",
         "x": [
          "2",
          "2"
         ],
         "y": [
          "3",
          "3"
         ],
         "z": [
          "2",
          "3"
         ]
        },
        {
         "line": {
          "color": "rgb(127, 198, 127)",
          "width": 5
         },
         "marker": {
          "color": "rgb(127, 198, 127)",
          "size": 1
         },
         "type": "scatter3d",
         "x": [
          "0",
          "0"
         ],
         "y": [
          "0",
          "0"
         ],
         "z": [
          "0",
          "3"
         ]
        },
        {
         "line": {
          "color": "rgb(127, 198, 127)",
          "width": 5
         },
         "marker": {
          "color": "rgb(127, 198, 127)",
          "size": 1
         },
         "type": "scatter3d",
         "x": [
          "0",
          "0"
         ],
         "y": [
          "0",
          "3"
         ],
         "z": [
          "3",
          "3"
         ]
        },
        {
         "line": {
          "color": "rgb(127, 198, 127)",
          "width": 5
         },
         "marker": {
          "color": "rgb(127, 198, 127)",
          "size": 1
         },
         "type": "scatter3d",
         "x": [
          "0",
          "0"
         ],
         "y": [
          "0",
          "0"
         ],
         "z": [
          "2",
          "3"
         ]
        },
        {
         "line": {
          "color": "rgb(127, 198, 127)",
          "width": 5
         },
         "marker": {
          "color": "rgb(127, 198, 127)",
          "size": 1
         },
         "type": "scatter3d",
         "x": [
          "0",
          "3"
         ],
         "y": [
          "0",
          "0"
         ],
         "z": [
          "3",
          "3"
         ]
        },
        {
         "line": {
          "color": "rgb(127, 198, 127)",
          "width": 5
         },
         "marker": {
          "color": "rgb(127, 198, 127)",
          "size": 1
         },
         "type": "scatter3d",
         "x": [
          "2",
          "2"
         ],
         "y": [
          "2",
          "2"
         ],
         "z": [
          "0",
          "3"
         ]
        },
        {
         "line": {
          "color": "rgb(84,48,5)",
          "width": 10
         },
         "marker": {
          "color": "rgb(84,48,5)",
          "size": 1
         },
         "type": "scatter3d",
         "x": [
          "2",
          "3"
         ],
         "y": [
          "2",
          "2"
         ],
         "z": [
          "2",
          "2"
         ]
        },
        {
         "line": {
          "color": "rgb(127, 198, 127)",
          "width": 5
         },
         "marker": {
          "color": "rgb(127, 198, 127)",
          "size": 1
         },
         "type": "scatter3d",
         "x": [
          "0",
          "0"
         ],
         "y": [
          "0",
          "1"
         ],
         "z": [
          "0",
          "0"
         ]
        },
        {
         "line": {
          "color": "rgb(127, 198, 127)",
          "width": 5
         },
         "marker": {
          "color": "rgb(127, 198, 127)",
          "size": 1
         },
         "type": "scatter3d",
         "x": [
          "0",
          "3"
         ],
         "y": [
          "1",
          "1"
         ],
         "z": [
          "3",
          "3"
         ]
        },
        {
         "line": {
          "color": "rgb(127, 198, 127)",
          "width": 5
         },
         "marker": {
          "color": "rgb(127, 198, 127)",
          "size": 1
         },
         "type": "scatter3d",
         "x": [
          "3",
          "3"
         ],
         "y": [
          "2",
          "3"
         ],
         "z": [
          "2",
          "2"
         ]
        },
        {
         "line": {
          "color": "rgb(84,48,5)",
          "width": 10
         },
         "marker": {
          "color": "rgb(84,48,5)",
          "size": 1
         },
         "type": "scatter3d",
         "x": [
          "3",
          "3"
         ],
         "y": [
          "3",
          "3"
         ],
         "z": [
          "0",
          "1"
         ]
        }
       ],
       "layout": {
        "margin": {
         "b": 0,
         "l": 0,
         "r": 0,
         "t": 0
        },
        "template": {
         "data": {
          "bar": [
           {
            "error_x": {
             "color": "#2a3f5f"
            },
            "error_y": {
             "color": "#2a3f5f"
            },
            "marker": {
             "line": {
              "color": "#E5ECF6",
              "width": 0.5
             }
            },
            "type": "bar"
           }
          ],
          "barpolar": [
           {
            "marker": {
             "line": {
              "color": "#E5ECF6",
              "width": 0.5
             }
            },
            "type": "barpolar"
           }
          ],
          "carpet": [
           {
            "aaxis": {
             "endlinecolor": "#2a3f5f",
             "gridcolor": "white",
             "linecolor": "white",
             "minorgridcolor": "white",
             "startlinecolor": "#2a3f5f"
            },
            "baxis": {
             "endlinecolor": "#2a3f5f",
             "gridcolor": "white",
             "linecolor": "white",
             "minorgridcolor": "white",
             "startlinecolor": "#2a3f5f"
            },
            "type": "carpet"
           }
          ],
          "choropleth": [
           {
            "colorbar": {
             "outlinewidth": 0,
             "ticks": ""
            },
            "type": "choropleth"
           }
          ],
          "contour": [
           {
            "colorbar": {
             "outlinewidth": 0,
             "ticks": ""
            },
            "colorscale": [
             [
              0,
              "#0d0887"
             ],
             [
              0.1111111111111111,
              "#46039f"
             ],
             [
              0.2222222222222222,
              "#7201a8"
             ],
             [
              0.3333333333333333,
              "#9c179e"
             ],
             [
              0.4444444444444444,
              "#bd3786"
             ],
             [
              0.5555555555555556,
              "#d8576b"
             ],
             [
              0.6666666666666666,
              "#ed7953"
             ],
             [
              0.7777777777777778,
              "#fb9f3a"
             ],
             [
              0.8888888888888888,
              "#fdca26"
             ],
             [
              1,
              "#f0f921"
             ]
            ],
            "type": "contour"
           }
          ],
          "contourcarpet": [
           {
            "colorbar": {
             "outlinewidth": 0,
             "ticks": ""
            },
            "type": "contourcarpet"
           }
          ],
          "heatmap": [
           {
            "colorbar": {
             "outlinewidth": 0,
             "ticks": ""
            },
            "colorscale": [
             [
              0,
              "#0d0887"
             ],
             [
              0.1111111111111111,
              "#46039f"
             ],
             [
              0.2222222222222222,
              "#7201a8"
             ],
             [
              0.3333333333333333,
              "#9c179e"
             ],
             [
              0.4444444444444444,
              "#bd3786"
             ],
             [
              0.5555555555555556,
              "#d8576b"
             ],
             [
              0.6666666666666666,
              "#ed7953"
             ],
             [
              0.7777777777777778,
              "#fb9f3a"
             ],
             [
              0.8888888888888888,
              "#fdca26"
             ],
             [
              1,
              "#f0f921"
             ]
            ],
            "type": "heatmap"
           }
          ],
          "heatmapgl": [
           {
            "colorbar": {
             "outlinewidth": 0,
             "ticks": ""
            },
            "colorscale": [
             [
              0,
              "#0d0887"
             ],
             [
              0.1111111111111111,
              "#46039f"
             ],
             [
              0.2222222222222222,
              "#7201a8"
             ],
             [
              0.3333333333333333,
              "#9c179e"
             ],
             [
              0.4444444444444444,
              "#bd3786"
             ],
             [
              0.5555555555555556,
              "#d8576b"
             ],
             [
              0.6666666666666666,
              "#ed7953"
             ],
             [
              0.7777777777777778,
              "#fb9f3a"
             ],
             [
              0.8888888888888888,
              "#fdca26"
             ],
             [
              1,
              "#f0f921"
             ]
            ],
            "type": "heatmapgl"
           }
          ],
          "histogram": [
           {
            "marker": {
             "colorbar": {
              "outlinewidth": 0,
              "ticks": ""
             }
            },
            "type": "histogram"
           }
          ],
          "histogram2d": [
           {
            "colorbar": {
             "outlinewidth": 0,
             "ticks": ""
            },
            "colorscale": [
             [
              0,
              "#0d0887"
             ],
             [
              0.1111111111111111,
              "#46039f"
             ],
             [
              0.2222222222222222,
              "#7201a8"
             ],
             [
              0.3333333333333333,
              "#9c179e"
             ],
             [
              0.4444444444444444,
              "#bd3786"
             ],
             [
              0.5555555555555556,
              "#d8576b"
             ],
             [
              0.6666666666666666,
              "#ed7953"
             ],
             [
              0.7777777777777778,
              "#fb9f3a"
             ],
             [
              0.8888888888888888,
              "#fdca26"
             ],
             [
              1,
              "#f0f921"
             ]
            ],
            "type": "histogram2d"
           }
          ],
          "histogram2dcontour": [
           {
            "colorbar": {
             "outlinewidth": 0,
             "ticks": ""
            },
            "colorscale": [
             [
              0,
              "#0d0887"
             ],
             [
              0.1111111111111111,
              "#46039f"
             ],
             [
              0.2222222222222222,
              "#7201a8"
             ],
             [
              0.3333333333333333,
              "#9c179e"
             ],
             [
              0.4444444444444444,
              "#bd3786"
             ],
             [
              0.5555555555555556,
              "#d8576b"
             ],
             [
              0.6666666666666666,
              "#ed7953"
             ],
             [
              0.7777777777777778,
              "#fb9f3a"
             ],
             [
              0.8888888888888888,
              "#fdca26"
             ],
             [
              1,
              "#f0f921"
             ]
            ],
            "type": "histogram2dcontour"
           }
          ],
          "mesh3d": [
           {
            "colorbar": {
             "outlinewidth": 0,
             "ticks": ""
            },
            "type": "mesh3d"
           }
          ],
          "parcoords": [
           {
            "line": {
             "colorbar": {
              "outlinewidth": 0,
              "ticks": ""
             }
            },
            "type": "parcoords"
           }
          ],
          "pie": [
           {
            "automargin": true,
            "type": "pie"
           }
          ],
          "scatter": [
           {
            "marker": {
             "colorbar": {
              "outlinewidth": 0,
              "ticks": ""
             }
            },
            "type": "scatter"
           }
          ],
          "scatter3d": [
           {
            "line": {
             "colorbar": {
              "outlinewidth": 0,
              "ticks": ""
             }
            },
            "marker": {
             "colorbar": {
              "outlinewidth": 0,
              "ticks": ""
             }
            },
            "type": "scatter3d"
           }
          ],
          "scattercarpet": [
           {
            "marker": {
             "colorbar": {
              "outlinewidth": 0,
              "ticks": ""
             }
            },
            "type": "scattercarpet"
           }
          ],
          "scattergeo": [
           {
            "marker": {
             "colorbar": {
              "outlinewidth": 0,
              "ticks": ""
             }
            },
            "type": "scattergeo"
           }
          ],
          "scattergl": [
           {
            "marker": {
             "colorbar": {
              "outlinewidth": 0,
              "ticks": ""
             }
            },
            "type": "scattergl"
           }
          ],
          "scattermapbox": [
           {
            "marker": {
             "colorbar": {
              "outlinewidth": 0,
              "ticks": ""
             }
            },
            "type": "scattermapbox"
           }
          ],
          "scatterpolar": [
           {
            "marker": {
             "colorbar": {
              "outlinewidth": 0,
              "ticks": ""
             }
            },
            "type": "scatterpolar"
           }
          ],
          "scatterpolargl": [
           {
            "marker": {
             "colorbar": {
              "outlinewidth": 0,
              "ticks": ""
             }
            },
            "type": "scatterpolargl"
           }
          ],
          "scatterternary": [
           {
            "marker": {
             "colorbar": {
              "outlinewidth": 0,
              "ticks": ""
             }
            },
            "type": "scatterternary"
           }
          ],
          "surface": [
           {
            "colorbar": {
             "outlinewidth": 0,
             "ticks": ""
            },
            "colorscale": [
             [
              0,
              "#0d0887"
             ],
             [
              0.1111111111111111,
              "#46039f"
             ],
             [
              0.2222222222222222,
              "#7201a8"
             ],
             [
              0.3333333333333333,
              "#9c179e"
             ],
             [
              0.4444444444444444,
              "#bd3786"
             ],
             [
              0.5555555555555556,
              "#d8576b"
             ],
             [
              0.6666666666666666,
              "#ed7953"
             ],
             [
              0.7777777777777778,
              "#fb9f3a"
             ],
             [
              0.8888888888888888,
              "#fdca26"
             ],
             [
              1,
              "#f0f921"
             ]
            ],
            "type": "surface"
           }
          ],
          "table": [
           {
            "cells": {
             "fill": {
              "color": "#EBF0F8"
             },
             "line": {
              "color": "white"
             }
            },
            "header": {
             "fill": {
              "color": "#C8D4E3"
             },
             "line": {
              "color": "white"
             }
            },
            "type": "table"
           }
          ]
         },
         "layout": {
          "annotationdefaults": {
           "arrowcolor": "#2a3f5f",
           "arrowhead": 0,
           "arrowwidth": 1
          },
          "autotypenumbers": "strict",
          "coloraxis": {
           "colorbar": {
            "outlinewidth": 0,
            "ticks": ""
           }
          },
          "colorscale": {
           "diverging": [
            [
             0,
             "#8e0152"
            ],
            [
             0.1,
             "#c51b7d"
            ],
            [
             0.2,
             "#de77ae"
            ],
            [
             0.3,
             "#f1b6da"
            ],
            [
             0.4,
             "#fde0ef"
            ],
            [
             0.5,
             "#f7f7f7"
            ],
            [
             0.6,
             "#e6f5d0"
            ],
            [
             0.7,
             "#b8e186"
            ],
            [
             0.8,
             "#7fbc41"
            ],
            [
             0.9,
             "#4d9221"
            ],
            [
             1,
             "#276419"
            ]
           ],
           "sequential": [
            [
             0,
             "#0d0887"
            ],
            [
             0.1111111111111111,
             "#46039f"
            ],
            [
             0.2222222222222222,
             "#7201a8"
            ],
            [
             0.3333333333333333,
             "#9c179e"
            ],
            [
             0.4444444444444444,
             "#bd3786"
            ],
            [
             0.5555555555555556,
             "#d8576b"
            ],
            [
             0.6666666666666666,
             "#ed7953"
            ],
            [
             0.7777777777777778,
             "#fb9f3a"
            ],
            [
             0.8888888888888888,
             "#fdca26"
            ],
            [
             1,
             "#f0f921"
            ]
           ],
           "sequentialminus": [
            [
             0,
             "#0d0887"
            ],
            [
             0.1111111111111111,
             "#46039f"
            ],
            [
             0.2222222222222222,
             "#7201a8"
            ],
            [
             0.3333333333333333,
             "#9c179e"
            ],
            [
             0.4444444444444444,
             "#bd3786"
            ],
            [
             0.5555555555555556,
             "#d8576b"
            ],
            [
             0.6666666666666666,
             "#ed7953"
            ],
            [
             0.7777777777777778,
             "#fb9f3a"
            ],
            [
             0.8888888888888888,
             "#fdca26"
            ],
            [
             1,
             "#f0f921"
            ]
           ]
          },
          "colorway": [
           "#636efa",
           "#EF553B",
           "#00cc96",
           "#ab63fa",
           "#FFA15A",
           "#19d3f3",
           "#FF6692",
           "#B6E880",
           "#FF97FF",
           "#FECB52"
          ],
          "font": {
           "color": "#2a3f5f"
          },
          "geo": {
           "bgcolor": "white",
           "lakecolor": "white",
           "landcolor": "#E5ECF6",
           "showlakes": true,
           "showland": true,
           "subunitcolor": "white"
          },
          "hoverlabel": {
           "align": "left"
          },
          "hovermode": "closest",
          "mapbox": {
           "style": "light"
          },
          "paper_bgcolor": "white",
          "plot_bgcolor": "#E5ECF6",
          "polar": {
           "angularaxis": {
            "gridcolor": "white",
            "linecolor": "white",
            "ticks": ""
           },
           "bgcolor": "#E5ECF6",
           "radialaxis": {
            "gridcolor": "white",
            "linecolor": "white",
            "ticks": ""
           }
          },
          "scene": {
           "xaxis": {
            "backgroundcolor": "#E5ECF6",
            "gridcolor": "white",
            "gridwidth": 2,
            "linecolor": "white",
            "showbackground": true,
            "ticks": "",
            "zerolinecolor": "white"
           },
           "yaxis": {
            "backgroundcolor": "#E5ECF6",
            "gridcolor": "white",
            "gridwidth": 2,
            "linecolor": "white",
            "showbackground": true,
            "ticks": "",
            "zerolinecolor": "white"
           },
           "zaxis": {
            "backgroundcolor": "#E5ECF6",
            "gridcolor": "white",
            "gridwidth": 2,
            "linecolor": "white",
            "showbackground": true,
            "ticks": "",
            "zerolinecolor": "white"
           }
          },
          "shapedefaults": {
           "line": {
            "color": "#2a3f5f"
           }
          },
          "ternary": {
           "aaxis": {
            "gridcolor": "white",
            "linecolor": "white",
            "ticks": ""
           },
           "baxis": {
            "gridcolor": "white",
            "linecolor": "white",
            "ticks": ""
           },
           "bgcolor": "#E5ECF6",
           "caxis": {
            "gridcolor": "white",
            "linecolor": "white",
            "ticks": ""
           }
          },
          "title": {
           "x": 0.05
          },
          "xaxis": {
           "automargin": true,
           "gridcolor": "white",
           "linecolor": "white",
           "ticks": "",
           "title": {
            "standoff": 15
           },
           "zerolinecolor": "white",
           "zerolinewidth": 2
          },
          "yaxis": {
           "automargin": true,
           "gridcolor": "white",
           "linecolor": "white",
           "ticks": "",
           "title": {
            "standoff": 15
           },
           "zerolinecolor": "white",
           "zerolinewidth": 2
          }
         }
        }
       }
      },
      "text/html": [
       "<div>                            <div id=\"b123659d-7820-4cdd-b825-85b16171623e\" class=\"plotly-graph-div\" style=\"height:525px; width:100%;\"></div>            <script type=\"text/javascript\">                require([\"plotly\"], function(Plotly) {                    window.PLOTLYENV=window.PLOTLYENV || {};                                    if (document.getElementById(\"b123659d-7820-4cdd-b825-85b16171623e\")) {                    Plotly.newPlot(                        \"b123659d-7820-4cdd-b825-85b16171623e\",                        [{\"marker\": {\"color\": \"rgb(227,26,28)\", \"size\": 10}, \"mode\": \"markers\", \"type\": \"scatter3d\", \"x\": [3, 2, 3, 2, 1, 0, 2, 2], \"y\": [2, 2, 3, 3, 1, 2, 1, 0], \"z\": [3, 0, 2, 1, 2, 2, 3, 2]}, {\"marker\": {\"color\": \"rgb(111, 146, 148)\", \"size\": 8}, \"mode\": \"markers\", \"type\": \"scatter3d\", \"x\": [0, 3, 2, 2, 0, 3, 3], \"y\": [0, 0, 3, 2, 3, 3, 2], \"z\": [0, 0, 0, 2, 0, 0, 2]}, {\"line\": {\"color\": \"rgb(84,48,5)\", \"width\": 10}, \"marker\": {\"color\": \"rgb(84,48,5)\", \"size\": 1}, \"type\": \"scatter3d\", \"x\": [\"0\", \"3\"], \"y\": [\"0\", \"0\"], \"z\": [\"0\", \"0\"]}, {\"line\": {\"color\": \"rgb(127, 198, 127)\", \"width\": 5}, \"marker\": {\"color\": \"rgb(127, 198, 127)\", \"size\": 1}, \"type\": \"scatter3d\", \"x\": [\"2\", \"3\"], \"y\": [\"0\", \"0\"], \"z\": [\"0\", \"0\"]}, {\"line\": {\"color\": \"rgb(127, 198, 127)\", \"width\": 5}, \"marker\": {\"color\": \"rgb(127, 198, 127)\", \"size\": 1}, \"type\": \"scatter3d\", \"x\": [\"2\", \"2\"], \"y\": [\"0\", \"3\"], \"z\": [\"0\", \"0\"]}, {\"line\": {\"color\": \"rgb(127, 198, 127)\", \"width\": 5}, \"marker\": {\"color\": \"rgb(127, 198, 127)\", \"size\": 1}, \"type\": \"scatter3d\", \"x\": [\"2\", \"2\"], \"y\": [\"3\", \"3\"], \"z\": [\"0\", \"3\"]}, {\"line\": {\"color\": \"rgb(84,48,5)\", \"width\": 10}, \"marker\": {\"color\": \"rgb(84,48,5)\", \"size\": 1}, \"type\": \"scatter3d\", \"x\": [\"2\", \"2\"], \"y\": [\"2\", \"2\"], \"z\": [\"2\", \"3\"]}, {\"line\": {\"color\": \"rgb(127, 198, 127)\", \"width\": 5}, \"marker\": {\"color\": \"rgb(127, 198, 127)\", \"size\": 1}, \"type\": \"scatter3d\", \"x\": [\"0\", \"1\"], \"y\": [\"0\", \"0\"], \"z\": [\"0\", \"0\"]}, {\"line\": {\"color\": \"rgb(127, 198, 127)\", \"width\": 5}, \"marker\": {\"color\": \"rgb(127, 198, 127)\", \"size\": 1}, \"type\": \"scatter3d\", \"x\": [\"0\", \"0\"], \"y\": [\"0\", \"0\"], \"z\": [\"0\", \"1\"]}, {\"line\": {\"color\": \"rgb(84,48,5)\", \"width\": 10}, \"marker\": {\"color\": \"rgb(84,48,5)\", \"size\": 1}, \"type\": \"scatter3d\", \"x\": [\"0\", \"0\"], \"y\": [\"0\", \"3\"], \"z\": [\"0\", \"0\"]}, {\"line\": {\"color\": \"rgb(127, 198, 127)\", \"width\": 5}, \"marker\": {\"color\": \"rgb(127, 198, 127)\", \"size\": 1}, \"type\": \"scatter3d\", \"x\": [\"0\", \"0\"], \"y\": [\"3\", \"3\"], \"z\": [\"0\", \"3\"]}, {\"line\": {\"color\": \"rgb(127, 198, 127)\", \"width\": 5}, \"marker\": {\"color\": \"rgb(127, 198, 127)\", \"size\": 1}, \"type\": \"scatter3d\", \"x\": [\"1\", \"2\"], \"y\": [\"3\", \"3\"], \"z\": [\"3\", \"3\"]}, {\"line\": {\"color\": \"rgb(84,48,5)\", \"width\": 10}, \"marker\": {\"color\": \"rgb(84,48,5)\", \"size\": 1}, \"type\": \"scatter3d\", \"x\": [\"3\", \"3\"], \"y\": [\"0\", \"3\"], \"z\": [\"0\", \"0\"]}, {\"line\": {\"color\": \"rgb(84,48,5)\", \"width\": 10}, \"marker\": {\"color\": \"rgb(84,48,5)\", \"size\": 1}, \"type\": \"scatter3d\", \"x\": [\"0\", \"3\"], \"y\": [\"3\", \"3\"], \"z\": [\"0\", \"0\"]}, {\"line\": {\"color\": \"rgb(127, 198, 127)\", \"width\": 5}, \"marker\": {\"color\": \"rgb(127, 198, 127)\", \"size\": 1}, \"type\": \"scatter3d\", \"x\": [\"2\", \"3\"], \"y\": [\"3\", \"3\"], \"z\": [\"0\", \"0\"]}, {\"line\": {\"color\": \"rgb(84,48,5)\", \"width\": 10}, \"marker\": {\"color\": \"rgb(84,48,5)\", \"size\": 1}, \"type\": \"scatter3d\", \"x\": [\"2\", \"2\"], \"y\": [\"2\", \"3\"], \"z\": [\"0\", \"0\"]}, {\"line\": {\"color\": \"rgb(127, 198, 127)\", \"width\": 5}, \"marker\": {\"color\": \"rgb(127, 198, 127)\", \"size\": 1}, \"type\": \"scatter3d\", \"x\": [\"3\", \"3\"], \"y\": [\"3\", \"3\"], \"z\": [\"1\", \"2\"]}, {\"line\": {\"color\": \"rgb(127, 198, 127)\", \"width\": 5}, \"marker\": {\"color\": \"rgb(127, 198, 127)\", \"size\": 1}, \"type\": \"scatter3d\", \"x\": [\"2\", \"2\"], \"y\": [\"2\", \"3\"], \"z\": [\"2\", \"2\"]}, {\"line\": {\"color\": \"rgb(127, 198, 127)\", \"width\": 5}, \"marker\": {\"color\": \"rgb(127, 198, 127)\", \"size\": 1}, \"type\": \"scatter3d\", \"x\": [\"2\", \"3\"], \"y\": [\"3\", \"3\"], \"z\": [\"2\", \"2\"]}, {\"line\": {\"color\": \"rgb(127, 198, 127)\", \"width\": 5}, \"marker\": {\"color\": \"rgb(127, 198, 127)\", \"size\": 1}, \"type\": \"scatter3d\", \"x\": [\"2\", \"2\"], \"y\": [\"3\", \"3\"], \"z\": [\"2\", \"3\"]}, {\"line\": {\"color\": \"rgb(127, 198, 127)\", \"width\": 5}, \"marker\": {\"color\": \"rgb(127, 198, 127)\", \"size\": 1}, \"type\": \"scatter3d\", \"x\": [\"0\", \"0\"], \"y\": [\"0\", \"0\"], \"z\": [\"0\", \"3\"]}, {\"line\": {\"color\": \"rgb(127, 198, 127)\", \"width\": 5}, \"marker\": {\"color\": \"rgb(127, 198, 127)\", \"size\": 1}, \"type\": \"scatter3d\", \"x\": [\"0\", \"0\"], \"y\": [\"0\", \"3\"], \"z\": [\"3\", \"3\"]}, {\"line\": {\"color\": \"rgb(127, 198, 127)\", \"width\": 5}, \"marker\": {\"color\": \"rgb(127, 198, 127)\", \"size\": 1}, \"type\": \"scatter3d\", \"x\": [\"0\", \"0\"], \"y\": [\"0\", \"0\"], \"z\": [\"2\", \"3\"]}, {\"line\": {\"color\": \"rgb(127, 198, 127)\", \"width\": 5}, \"marker\": {\"color\": \"rgb(127, 198, 127)\", \"size\": 1}, \"type\": \"scatter3d\", \"x\": [\"0\", \"3\"], \"y\": [\"0\", \"0\"], \"z\": [\"3\", \"3\"]}, {\"line\": {\"color\": \"rgb(127, 198, 127)\", \"width\": 5}, \"marker\": {\"color\": \"rgb(127, 198, 127)\", \"size\": 1}, \"type\": \"scatter3d\", \"x\": [\"2\", \"2\"], \"y\": [\"2\", \"2\"], \"z\": [\"0\", \"3\"]}, {\"line\": {\"color\": \"rgb(84,48,5)\", \"width\": 10}, \"marker\": {\"color\": \"rgb(84,48,5)\", \"size\": 1}, \"type\": \"scatter3d\", \"x\": [\"2\", \"3\"], \"y\": [\"2\", \"2\"], \"z\": [\"2\", \"2\"]}, {\"line\": {\"color\": \"rgb(127, 198, 127)\", \"width\": 5}, \"marker\": {\"color\": \"rgb(127, 198, 127)\", \"size\": 1}, \"type\": \"scatter3d\", \"x\": [\"0\", \"0\"], \"y\": [\"0\", \"1\"], \"z\": [\"0\", \"0\"]}, {\"line\": {\"color\": \"rgb(127, 198, 127)\", \"width\": 5}, \"marker\": {\"color\": \"rgb(127, 198, 127)\", \"size\": 1}, \"type\": \"scatter3d\", \"x\": [\"0\", \"3\"], \"y\": [\"1\", \"1\"], \"z\": [\"3\", \"3\"]}, {\"line\": {\"color\": \"rgb(127, 198, 127)\", \"width\": 5}, \"marker\": {\"color\": \"rgb(127, 198, 127)\", \"size\": 1}, \"type\": \"scatter3d\", \"x\": [\"3\", \"3\"], \"y\": [\"2\", \"3\"], \"z\": [\"2\", \"2\"]}, {\"line\": {\"color\": \"rgb(84,48,5)\", \"width\": 10}, \"marker\": {\"color\": \"rgb(84,48,5)\", \"size\": 1}, \"type\": \"scatter3d\", \"x\": [\"3\", \"3\"], \"y\": [\"3\", \"3\"], \"z\": [\"0\", \"1\"]}],                        {\"margin\": {\"b\": 0, \"l\": 0, \"r\": 0, \"t\": 0}, \"template\": {\"data\": {\"bar\": [{\"error_x\": {\"color\": \"#2a3f5f\"}, \"error_y\": {\"color\": \"#2a3f5f\"}, \"marker\": {\"line\": {\"color\": \"#E5ECF6\", \"width\": 0.5}}, \"type\": \"bar\"}], \"barpolar\": [{\"marker\": {\"line\": {\"color\": \"#E5ECF6\", \"width\": 0.5}}, \"type\": \"barpolar\"}], \"carpet\": [{\"aaxis\": {\"endlinecolor\": \"#2a3f5f\", \"gridcolor\": \"white\", \"linecolor\": \"white\", \"minorgridcolor\": \"white\", \"startlinecolor\": \"#2a3f5f\"}, \"baxis\": {\"endlinecolor\": \"#2a3f5f\", \"gridcolor\": \"white\", \"linecolor\": \"white\", \"minorgridcolor\": \"white\", \"startlinecolor\": \"#2a3f5f\"}, \"type\": \"carpet\"}], \"choropleth\": [{\"colorbar\": {\"outlinewidth\": 0, \"ticks\": \"\"}, \"type\": \"choropleth\"}], \"contour\": [{\"colorbar\": {\"outlinewidth\": 0, \"ticks\": \"\"}, \"colorscale\": [[0.0, \"#0d0887\"], [0.1111111111111111, \"#46039f\"], [0.2222222222222222, \"#7201a8\"], [0.3333333333333333, \"#9c179e\"], [0.4444444444444444, \"#bd3786\"], [0.5555555555555556, \"#d8576b\"], [0.6666666666666666, \"#ed7953\"], [0.7777777777777778, \"#fb9f3a\"], [0.8888888888888888, \"#fdca26\"], [1.0, \"#f0f921\"]], \"type\": \"contour\"}], \"contourcarpet\": [{\"colorbar\": {\"outlinewidth\": 0, \"ticks\": \"\"}, \"type\": \"contourcarpet\"}], \"heatmap\": [{\"colorbar\": {\"outlinewidth\": 0, \"ticks\": \"\"}, \"colorscale\": [[0.0, \"#0d0887\"], [0.1111111111111111, \"#46039f\"], [0.2222222222222222, \"#7201a8\"], [0.3333333333333333, \"#9c179e\"], [0.4444444444444444, \"#bd3786\"], [0.5555555555555556, \"#d8576b\"], [0.6666666666666666, \"#ed7953\"], [0.7777777777777778, \"#fb9f3a\"], [0.8888888888888888, \"#fdca26\"], [1.0, \"#f0f921\"]], \"type\": \"heatmap\"}], \"heatmapgl\": [{\"colorbar\": {\"outlinewidth\": 0, \"ticks\": \"\"}, \"colorscale\": [[0.0, \"#0d0887\"], [0.1111111111111111, \"#46039f\"], [0.2222222222222222, \"#7201a8\"], [0.3333333333333333, \"#9c179e\"], [0.4444444444444444, \"#bd3786\"], [0.5555555555555556, \"#d8576b\"], [0.6666666666666666, \"#ed7953\"], [0.7777777777777778, \"#fb9f3a\"], [0.8888888888888888, \"#fdca26\"], [1.0, \"#f0f921\"]], \"type\": \"heatmapgl\"}], \"histogram\": [{\"marker\": {\"colorbar\": {\"outlinewidth\": 0, \"ticks\": \"\"}}, \"type\": \"histogram\"}], \"histogram2d\": [{\"colorbar\": {\"outlinewidth\": 0, \"ticks\": \"\"}, \"colorscale\": [[0.0, \"#0d0887\"], [0.1111111111111111, \"#46039f\"], [0.2222222222222222, \"#7201a8\"], [0.3333333333333333, \"#9c179e\"], [0.4444444444444444, \"#bd3786\"], [0.5555555555555556, \"#d8576b\"], [0.6666666666666666, \"#ed7953\"], [0.7777777777777778, \"#fb9f3a\"], [0.8888888888888888, \"#fdca26\"], [1.0, \"#f0f921\"]], \"type\": \"histogram2d\"}], \"histogram2dcontour\": [{\"colorbar\": {\"outlinewidth\": 0, \"ticks\": \"\"}, \"colorscale\": [[0.0, \"#0d0887\"], [0.1111111111111111, \"#46039f\"], [0.2222222222222222, \"#7201a8\"], [0.3333333333333333, \"#9c179e\"], [0.4444444444444444, \"#bd3786\"], [0.5555555555555556, \"#d8576b\"], [0.6666666666666666, \"#ed7953\"], [0.7777777777777778, \"#fb9f3a\"], [0.8888888888888888, \"#fdca26\"], [1.0, \"#f0f921\"]], \"type\": \"histogram2dcontour\"}], \"mesh3d\": [{\"colorbar\": {\"outlinewidth\": 0, \"ticks\": \"\"}, \"type\": \"mesh3d\"}], \"parcoords\": [{\"line\": {\"colorbar\": {\"outlinewidth\": 0, \"ticks\": \"\"}}, \"type\": \"parcoords\"}], \"pie\": [{\"automargin\": true, \"type\": \"pie\"}], \"scatter\": [{\"marker\": {\"colorbar\": {\"outlinewidth\": 0, \"ticks\": \"\"}}, \"type\": \"scatter\"}], \"scatter3d\": [{\"line\": {\"colorbar\": {\"outlinewidth\": 0, \"ticks\": \"\"}}, \"marker\": {\"colorbar\": {\"outlinewidth\": 0, \"ticks\": \"\"}}, \"type\": \"scatter3d\"}], \"scattercarpet\": [{\"marker\": {\"colorbar\": {\"outlinewidth\": 0, \"ticks\": \"\"}}, \"type\": \"scattercarpet\"}], \"scattergeo\": [{\"marker\": {\"colorbar\": {\"outlinewidth\": 0, \"ticks\": \"\"}}, \"type\": \"scattergeo\"}], \"scattergl\": [{\"marker\": {\"colorbar\": {\"outlinewidth\": 0, \"ticks\": \"\"}}, \"type\": \"scattergl\"}], \"scattermapbox\": [{\"marker\": {\"colorbar\": {\"outlinewidth\": 0, \"ticks\": \"\"}}, \"type\": \"scattermapbox\"}], \"scatterpolar\": [{\"marker\": {\"colorbar\": {\"outlinewidth\": 0, \"ticks\": \"\"}}, \"type\": \"scatterpolar\"}], \"scatterpolargl\": [{\"marker\": {\"colorbar\": {\"outlinewidth\": 0, \"ticks\": \"\"}}, \"type\": \"scatterpolargl\"}], \"scatterternary\": [{\"marker\": {\"colorbar\": {\"outlinewidth\": 0, \"ticks\": \"\"}}, \"type\": \"scatterternary\"}], \"surface\": [{\"colorbar\": {\"outlinewidth\": 0, \"ticks\": \"\"}, \"colorscale\": [[0.0, \"#0d0887\"], [0.1111111111111111, \"#46039f\"], [0.2222222222222222, \"#7201a8\"], [0.3333333333333333, \"#9c179e\"], [0.4444444444444444, \"#bd3786\"], [0.5555555555555556, \"#d8576b\"], [0.6666666666666666, \"#ed7953\"], [0.7777777777777778, \"#fb9f3a\"], [0.8888888888888888, \"#fdca26\"], [1.0, \"#f0f921\"]], \"type\": \"surface\"}], \"table\": [{\"cells\": {\"fill\": {\"color\": \"#EBF0F8\"}, \"line\": {\"color\": \"white\"}}, \"header\": {\"fill\": {\"color\": \"#C8D4E3\"}, \"line\": {\"color\": \"white\"}}, \"type\": \"table\"}]}, \"layout\": {\"annotationdefaults\": {\"arrowcolor\": \"#2a3f5f\", \"arrowhead\": 0, \"arrowwidth\": 1}, \"autotypenumbers\": \"strict\", \"coloraxis\": {\"colorbar\": {\"outlinewidth\": 0, \"ticks\": \"\"}}, \"colorscale\": {\"diverging\": [[0, \"#8e0152\"], [0.1, \"#c51b7d\"], [0.2, \"#de77ae\"], [0.3, \"#f1b6da\"], [0.4, \"#fde0ef\"], [0.5, \"#f7f7f7\"], [0.6, \"#e6f5d0\"], [0.7, \"#b8e186\"], [0.8, \"#7fbc41\"], [0.9, \"#4d9221\"], [1, \"#276419\"]], \"sequential\": [[0.0, \"#0d0887\"], [0.1111111111111111, \"#46039f\"], [0.2222222222222222, \"#7201a8\"], [0.3333333333333333, \"#9c179e\"], [0.4444444444444444, \"#bd3786\"], [0.5555555555555556, \"#d8576b\"], [0.6666666666666666, \"#ed7953\"], [0.7777777777777778, \"#fb9f3a\"], [0.8888888888888888, \"#fdca26\"], [1.0, \"#f0f921\"]], \"sequentialminus\": [[0.0, \"#0d0887\"], [0.1111111111111111, \"#46039f\"], [0.2222222222222222, \"#7201a8\"], [0.3333333333333333, \"#9c179e\"], [0.4444444444444444, \"#bd3786\"], [0.5555555555555556, \"#d8576b\"], [0.6666666666666666, \"#ed7953\"], [0.7777777777777778, \"#fb9f3a\"], [0.8888888888888888, \"#fdca26\"], [1.0, \"#f0f921\"]]}, \"colorway\": [\"#636efa\", \"#EF553B\", \"#00cc96\", \"#ab63fa\", \"#FFA15A\", \"#19d3f3\", \"#FF6692\", \"#B6E880\", \"#FF97FF\", \"#FECB52\"], \"font\": {\"color\": \"#2a3f5f\"}, \"geo\": {\"bgcolor\": \"white\", \"lakecolor\": \"white\", \"landcolor\": \"#E5ECF6\", \"showlakes\": true, \"showland\": true, \"subunitcolor\": \"white\"}, \"hoverlabel\": {\"align\": \"left\"}, \"hovermode\": \"closest\", \"mapbox\": {\"style\": \"light\"}, \"paper_bgcolor\": \"white\", \"plot_bgcolor\": \"#E5ECF6\", \"polar\": {\"angularaxis\": {\"gridcolor\": \"white\", \"linecolor\": \"white\", \"ticks\": \"\"}, \"bgcolor\": \"#E5ECF6\", \"radialaxis\": {\"gridcolor\": \"white\", \"linecolor\": \"white\", \"ticks\": \"\"}}, \"scene\": {\"xaxis\": {\"backgroundcolor\": \"#E5ECF6\", \"gridcolor\": \"white\", \"gridwidth\": 2, \"linecolor\": \"white\", \"showbackground\": true, \"ticks\": \"\", \"zerolinecolor\": \"white\"}, \"yaxis\": {\"backgroundcolor\": \"#E5ECF6\", \"gridcolor\": \"white\", \"gridwidth\": 2, \"linecolor\": \"white\", \"showbackground\": true, \"ticks\": \"\", \"zerolinecolor\": \"white\"}, \"zaxis\": {\"backgroundcolor\": \"#E5ECF6\", \"gridcolor\": \"white\", \"gridwidth\": 2, \"linecolor\": \"white\", \"showbackground\": true, \"ticks\": \"\", \"zerolinecolor\": \"white\"}}, \"shapedefaults\": {\"line\": {\"color\": \"#2a3f5f\"}}, \"ternary\": {\"aaxis\": {\"gridcolor\": \"white\", \"linecolor\": \"white\", \"ticks\": \"\"}, \"baxis\": {\"gridcolor\": \"white\", \"linecolor\": \"white\", \"ticks\": \"\"}, \"bgcolor\": \"#E5ECF6\", \"caxis\": {\"gridcolor\": \"white\", \"linecolor\": \"white\", \"ticks\": \"\"}}, \"title\": {\"x\": 0.05}, \"xaxis\": {\"automargin\": true, \"gridcolor\": \"white\", \"linecolor\": \"white\", \"ticks\": \"\", \"title\": {\"standoff\": 15}, \"zerolinecolor\": \"white\", \"zerolinewidth\": 2}, \"yaxis\": {\"automargin\": true, \"gridcolor\": \"white\", \"linecolor\": \"white\", \"ticks\": \"\", \"title\": {\"standoff\": 15}, \"zerolinecolor\": \"white\", \"zerolinewidth\": 2}}}},                        {\"responsive\": true}                    ).then(function(){\n",
       "                            \n",
       "var gd = document.getElementById('b123659d-7820-4cdd-b825-85b16171623e');\n",
       "var x = new MutationObserver(function (mutations, observer) {{\n",
       "        var display = window.getComputedStyle(gd).display;\n",
       "        if (!display || display === 'none') {{\n",
       "            console.log([gd, 'removed!']);\n",
       "            Plotly.purge(gd);\n",
       "            observer.disconnect();\n",
       "        }}\n",
       "}});\n",
       "\n",
       "// Listen for the removal of the full notebook cells\n",
       "var notebookContainer = gd.closest('#notebook-container');\n",
       "if (notebookContainer) {{\n",
       "    x.observe(notebookContainer, {childList: true});\n",
       "}}\n",
       "\n",
       "// Listen for the clearing of the current output cell\n",
       "var outputEl = gd.closest('.output');\n",
       "if (outputEl) {{\n",
       "    x.observe(outputEl, {childList: true});\n",
       "}}\n",
       "\n",
       "                        })                };                });            </script>        </div>"
      ]
     },
     "metadata": {},
     "output_type": "display_data"
    }
   ],
   "source": [
    "plot_all(node_list, vector_list)"
   ]
  },
  {
   "attachments": {},
   "cell_type": "markdown",
   "id": "b7307f0d",
   "metadata": {},
   "source": [
    "# 结果分析\n",
    "\n",
    "## 模型说明\n",
    "利用plotly第三方库画出了一个3D图形，保存为“vector.html”，可以直接在浏览器中打开查看。\n",
    "\n",
    "该三维图形中的整数三维坐标和6bit的答题状态是一一对应的关系。具体来讲，将6bit的二进制状态码转换为2bit + 2bit + 2bit的编码方式，每两个bit都采用格雷码的编码方式，保证每一步的操作在三维空间中的欧氏距离均为1。\n",
    "\n",
    "具体的编码规则如下所示：\n",
    "![](https://cdn.jsdelivr.net/gh/Brook1711/fig_for_blog/img/20210610160848.png)\n",
    "### 正确答案\n",
    "正确答案用红色圆点标明：\n",
    "![](https://cdn.jsdelivr.net/gh/Brook1711/fig_for_blog/img/20210610164226.png)\n",
    "### 中间状态（重复出现20次）\n",
    "虽然不是最终正确答案，但是出现频次较高，采用青色圆点表示：\n",
    "![](https://cdn.jsdelivr.net/gh/Brook1711/fig_for_blog/img/20210610164343.png)\n",
    "### 较为普遍的步骤（15次以上）\n",
    "在图中，出现频次较多的步骤用棕色粗实线标出：\n",
    "![](https://cdn.jsdelivr.net/gh/Brook1711/fig_for_blog/img/20210610164502.png)\n",
    "### 次为普遍的步骤（5~15次）\n",
    "出现次数比较多的用绿色圆点表示：\n",
    "![](https://cdn.jsdelivr.net/gh/Brook1711/fig_for_blog/img/20210610164801.png)\n",
    "## 教育类结论\n",
    "较为普遍的步骤和中间状态集中于xoy平面上\n",
    "![](https://cdn.jsdelivr.net/gh/Brook1711/fig_for_blog/img/20210610164921.png)\n",
    "最为常见的解题思路如下\n",
    "![](https://cdn.jsdelivr.net/gh/Brook1711/fig_for_blog/img/20210610165118.png)\n",
    "即，000000->001000->011000->111000->111100\n",
    "在题目中为：\n",
    "![](https://cdn.jsdelivr.net/gh/Brook1711/fig_for_blog/img/20210610165837.png)\n",
    "\n",
    "另外还有几种较为冷门的答案\n",
    "![](https://cdn.jsdelivr.net/gh/Brook1711/fig_for_blog/img/20210610170000.png)\n",
    "分别为：110011,010111,001111，101110\n",
    "在题目中为：\n",
    "![](https://cdn.jsdelivr.net/gh/Brook1711/fig_for_blog/img/20210610170355.png)"
   ]
  },
  {
   "cell_type": "code",
   "execution_count": null,
   "id": "e3437ead",
   "metadata": {},
   "outputs": [],
   "source": []
  }
 ],
 "metadata": {
  "kernelspec": {
   "display_name": "data_analysis",
   "language": "python",
   "name": "data_analysis"
  },
  "language_info": {
   "codemirror_mode": {
    "name": "ipython",
    "version": 3
   },
   "file_extension": ".py",
   "mimetype": "text/x-python",
   "name": "python",
   "nbconvert_exporter": "python",
   "pygments_lexer": "ipython3",
   "version": "3.8.10"
  }
 },
 "nbformat": 4,
 "nbformat_minor": 5
}
